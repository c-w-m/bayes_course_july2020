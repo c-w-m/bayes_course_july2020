{
 "cells": [
  {
   "cell_type": "markdown",
   "metadata": {},
   "source": [
    "## Varying Intercept and Slope Model"
   ]
  },
  {
   "cell_type": "code",
   "execution_count": null,
   "metadata": {},
   "outputs": [],
   "source": [
    "with Model() as varying_intercept_slope:\n",
    "    \n",
    "    # Priors\n",
    "    mu_a = Normal('mu_a', mu=0., sigma=10)\n",
    "    sigma_a = HalfCauchy('sigma_a', 5)\n",
    "    \n",
    "    mu_b = Normal('mu_b', mu=0., sigma=10)\n",
    "    sigma_b = HalfCauchy('sigma_b', 5)\n",
    "    \n",
    "    # Random intercepts\n",
    "    a = Normal('a', mu=mu_a, sigma=sigma_a, shape=n_counties)\n",
    "    # Random slopes\n",
    "    b = Normal('b', mu=mu_b, sigma=sigma_b, shape=n_counties)\n",
    "    \n",
    "    # Model error\n",
    "    sigma_y = Uniform('sigma_y', lower=0, upper=100)\n",
    "    \n",
    "    # Expected value\n",
    "    y_hat = a[county] + b[county] * floor_measure\n",
    "    \n",
    "    # Data likelihood\n",
    "    y_like = Normal('y_like', mu=y_hat, sigma=sigma_y, observed=log_radon)"
   ]
  },
  {
   "cell_type": "markdown",
   "metadata": {},
   "source": [
    "## Prediction from a New County\n",
    "\n",
    "To sample a new county, first a county mean would have to be samples from the county radon distribution, and this mean used in the sampling of the radon value. "
   ]
  },
  {
   "cell_type": "code",
   "execution_count": null,
   "metadata": {},
   "outputs": [],
   "source": [
    "a_new = Normal('a_new', μ_a, sigma=σ_a)\n",
    "\n",
    "new_county_pred = Normal('new_county_pred', mu=a_new + b, sigma=σ_y)"
   ]
  }
 ],
 "metadata": {
  "kernelspec": {
   "display_name": "ibaio_dev39",
   "language": "python",
   "name": "ibaio_dev39"
  },
  "language_info": {
   "codemirror_mode": {
    "name": "ipython",
    "version": 3
   },
   "file_extension": ".py",
   "mimetype": "text/x-python",
   "name": "python",
   "nbconvert_exporter": "python",
   "pygments_lexer": "ipython3",
   "version": "3.9.4"
  }
 },
 "nbformat": 4,
 "nbformat_minor": 4
}
